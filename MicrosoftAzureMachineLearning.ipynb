{
  "nbformat": 4,
  "nbformat_minor": 0,
  "metadata": {
    "colab": {
      "provenance": []
    },
    "kernelspec": {
      "name": "python3",
      "display_name": "Python 3"
    },
    "language_info": {
      "name": "python"
    }
  },
  "cells": [
    {
      "cell_type": "code",
      "execution_count": null,
      "metadata": {
        "id": "FkRFQ3joZvId"
      },
      "outputs": [],
      "source": [
        "\n",
        "# Machine learning - This is often the foundation for an AI system, and is the way we \"teach\" a computer model to make predictions and draw conclusions from data.\n",
        "# Computer vision - Capabilities within AI to interpret the world visually through cameras, video, and images.\n",
        "# Natural language processing - Capabilities within AI for a computer to interpret written or spoken language, and respond in kind.\n",
        "# Document intelligence - Capabilities within AI that deal with managing, processing, and using high volumes of data found in forms and documents.\n",
        "# Knowledge mining - Capabilities within AI to extract information from large volumes of often unstructured data to create a searchable knowledge store.\n",
        "# Generative AI - Capabilities within AI that create original content in a variety of formats including natural language, image, code, and more."
      ]
    },
    {
      "cell_type": "code",
      "source": [
        "# Machine Learning is the foundation for most AI solutions. Since the 1950's, researchers, often known as data scientists, have worked on different approaches to AI. Most modern applications of AI have their origins in machine learning, a branch of AI that combines computer science and mathematics.\n",
        "\n",
        "# Sustainable farming techniques are essential to maximize food production while protecting a fragile environment. The Yield, an agricultural technology company based in Australia, uses sensors, data, and machine learning to help farmers make informed decisions related to weather, soil, and plant conditions."
      ],
      "metadata": {
        "id": "jYjKNTxdbLQ1"
      },
      "execution_count": null,
      "outputs": []
    },
    {
      "cell_type": "code",
      "source": [
        "# So how do machines learn?\n",
        "\n",
        "# The answer is, from data. In today's world, we create huge volumes of data as we go about our everyday lives. From the text messages, emails, and social media posts we send to the photographs and videos we take on our phones, we generate massive amounts of information. More data still is created by millions of sensors in our homes, cars, cities, public transport infrastructure, and factories.\n",
        "\n",
        "# Data scientists can use all of that data to train machine learning models that can make predictions and inferences based on the relationships they find in the data.\n",
        "\n",
        "# Machine learning models try to capture the relationship between data. For example, suppose an environmental conservation organization wants volunteers to identify and catalog different species of wildflower using a phone app.\n"
      ],
      "metadata": {
        "id": "YEIwZrCCbsLt"
      },
      "execution_count": null,
      "outputs": []
    },
    {
      "cell_type": "code",
      "source": [
        "# Machine learning in Microsoft Azure\n",
        "\n",
        "# Microsoft Azure provides the Azure Machine Learning service - a cloud-based platform for creating, managing, and publishing machine learning models. Azure Machine Learning Studio offers multiple authoring experiences such as:\n",
        "\n",
        "# Automated machine learning: this feature enables non-experts to quickly create an effective machine learning model from data.\n",
        "# Azure Machine Learning designer: a graphical interface enabling no-code development of machine learning solutions.\n",
        "# Data metric visualization: analyze and optimize your experiments with visualization.\n",
        "# Notebooks: write and run your own code in managed Jupyter Notebook servers that are directly integrated in the studio."
      ],
      "metadata": {
        "id": "4OKCc3_Ucwfr"
      },
      "execution_count": null,
      "outputs": []
    },
    {
      "cell_type": "code",
      "source": [
        "# Computer Vision models and capabilities\n",
        "\n",
        "# Image classification\n",
        "# Object detection\n",
        "# Semantic segmentation\n",
        "# Image analysis\n",
        "# Face detection, analysis, and recognition\n",
        "# Optical character recognition (OCR)"
      ],
      "metadata": {
        "id": "Mp5vAVka2sD3"
      },
      "execution_count": null,
      "outputs": []
    },
    {
      "cell_type": "code",
      "source": [
        "# Understand natural language processing\n",
        "\n",
        "# Natural language processing (NLP) is the area of AI that deals with creating software that understands written and spoken language.\n",
        "# NLP enables you to create software that can:\n",
        "\n",
        "# Analyze and interpret text in documents, email messages, and other sources.\n",
        "# Interpret spoken language, and synthesize speech responses.\n",
        "# Automatically translate spoken or written phrases between languages.\n",
        "# Interpret commands and determine appropriate actions.\n",
        "# For example, Starship Commander is a virtual reality (VR) game from Human Interact that takes place in a science fiction world. The game uses natural language processing to enable players to control the narrative and interact with in-game characters and starship systems.\n"
      ],
      "metadata": {
        "id": "hQFVl8dH3mwZ"
      },
      "execution_count": null,
      "outputs": []
    },
    {
      "cell_type": "code",
      "source": [
        "# You can use Microsoft's Azure AI Language to build natural language processing solutions. Some features of Azure AI Language include understanding and analyzing text, training conversational language models that can understand spoken or text-based commands, and building intelligent applications.\n",
        "\n",
        "# Microsoft's Azure AI Speech is another service that can be used to build natural language processing solutions. Azure AI Speech features include speech recognition and synthesis, real-time translations, conversation transcriptions, and more.\n",
        "\n",
        "# You can explore Azure AI Language features in the Azure Language Studio and Azure AI Speech features in the Azure Speech Studio. The service features are available for use and testing in the studios and other programming languages.\n",
        "\n"
      ],
      "metadata": {
        "id": "7Quh_n033715"
      },
      "execution_count": null,
      "outputs": []
    },
    {
      "cell_type": "code",
      "source": [
        "# Understand document intelligence and knowledge mining\n",
        "\n",
        "# Document Intelligence is the area of AI that deals with managing, processing, and using high volumes of a variety of data found in forms and documents. Document intelligence enables you to create software that can automate processing for contracts, health documents, financial forms and more\n",
        "\n",
        "# Document intelligence in Microsoft Azure\n",
        "\n",
        "# You can use Microsoft's Azure AI Document Intelligence to build solutions that manage and accelerate data collection from scanned documents. Features of Azure AI Document Intelligence help automate document processing in applications and workflows, enhance data-driven strategies, and enrich document search capabilities. You can use prebuilt models to add intelligent document processing for invoices, receipts, health insurance cards, tax forms, and more. You can also use Azure AI Document Intelligence to create custom models with your own labeled datasets. The service features are available for use and testing in the Document Intelligence Studio and other programming languages."
      ],
      "metadata": {
        "id": "jbInspC04_n-"
      },
      "execution_count": null,
      "outputs": []
    },
    {
      "cell_type": "code",
      "source": [
        "# Knowledge Mining\n",
        "\n",
        "# Knowledge mining is the term used to describe solutions that involve extracting information from large volumes of often unstructured data to create a searchable knowledge store.\n",
        "\n",
        "# Knowledge mining in Microsoft Azure\n",
        "\n",
        "# One Microsoft knowledge mining solution is Azure AI Search, an enterprise, search solution that has tools for building indexes. The indexes can then be used for internal only use, or to enable searchable content on public facing internet assets.\n",
        "\n",
        "# Azure AI Search can utilize the built-in AI capabilities of Azure AI services such as image processing, document intelligence, and natural language processing to extract data. The product's AI capabilities makes it possible to index previously unsearchable documents and to extract and surface insights from large amounts of data quickly.\n"
      ],
      "metadata": {
        "id": "OCrvrpgV5lI0"
      },
      "execution_count": null,
      "outputs": []
    },
    {
      "cell_type": "code",
      "source": [
        "# Understand generative AI\n",
        "\n",
        "# Generative AI describes a category of capabilities within AI that create original content. People typically interact with generative AI that has been built into chat applications. Generative AI applications take in natural language input, and return appropriate responses in a variety of formats including natural language, image, code, and audio.\n",
        "\n",
        "# Generative AI in Microsoft Azure\n",
        "\n",
        "# Azure OpenAI Service is Microsoft's cloud solution for deploying, customizing, and hosting generative AI models. It brings together the best of OpenAI's cutting edge models and APIs with the security and scalability of the Azure cloud platform.\n",
        "\n",
        "# Azure OpenAI Service supports many generative model choices that can serve different needs. You can use Azure AI Studio to create generative AI solutions, such as custom copilot chat-based assistants that use Azure OpenAI Service models\n",
        "\n",
        "# ÖRNEĞİN KULLANICININ GPT'DEN BİR COVER LETTER YAZMASINI İSTEMESİNİ GENERATİVE Ai İLE YAPAR."
      ],
      "metadata": {
        "id": "MmMg9wBY6KGO"
      },
      "execution_count": null,
      "outputs": []
    },
    {
      "cell_type": "code",
      "source": [
        "# Understand Responsible AI\n",
        "\n",
        "# Fairness\n",
        "# Reliability and safety\n",
        "# Privacy and security\n",
        "# Inclusiveness - MESELA GÖRME ENGELLİ KİŞİLERE SES ÇIKIŞI SAĞLAMAK.\n",
        "# Transparency\n",
        "# Accountability\n"
      ],
      "metadata": {
        "id": "GWrR-t5T6tjJ"
      },
      "execution_count": null,
      "outputs": []
    },
    {
      "cell_type": "code",
      "source": [
        "# Artificial Intelligence enables the creation of powerful solutions to many kinds of problems. AI systems can exhibit human characteristics to analyze the world around them, make predictions or inferences, and act on them in ways that we could only imagine a short time ago.\n",
        "\n",
        "# With this power, comes responsibility. As developers of AI solutions, we must apply principles that ensure that everyone benefits from AI without disadvantaging any individual or section of society."
      ],
      "metadata": {
        "id": "SDJomHAi8gOP"
      },
      "execution_count": null,
      "outputs": []
    },
    {
      "cell_type": "code",
      "source": [
        "Machine learning is in many ways the intersection of two disciplines - data science and software engineering. The goal of machine learning is to use data to create a predictive model that can be incorporated into a software application or service. To achieve this goal requires collaboration between data scientists who explore and prepare the data before using it to train a machine learning model, and software developers who integrate the models into applications where they're used to predict new data values (a process known as inferencing).\n",
        "\n",
        "What is machine learning?\n",
        "\n",
        "Machine learning has its origins in statistics and mathematical modeling of data. The fundamental idea of machine learning is to use data from past observations to predict unknown outcomes or values. For example:\n",
        "\n",
        "The proprietor of an ice cream store might use an app that combines historical sales and weather records to predict how many ice creams they're likely to sell on a given day, based on the weather forecast.\n",
        "A doctor might use clinical data from past patients to run automated tests that predict whether a new patient is at risk from diabetes based on factors like weight, blood glucose level, and other measurements.\n",
        "A researcher in the Antarctic might use past observations automate the identification of different penguin species (such as Adelie, Gentoo, or Chinstrap) based on measurements of a bird's flippers, bill, and other physical attributes.\n",
        "Machine learning as a function\n",
        "Because machine learning is based on mathematics and statistics, it's common to think about machine learning models in mathematical terms. Fundamentally, a machine learning model is a software application that encapsulates a function to calculate an output value based on one or more input values. The process of defining that function is known as training. After the function has been defined, you can use it to predict new values in a process called inferencing.\n",
        "\n",
        "Let's explore the steps involved in training and inferencing.\n",
        "\n",
        "Diagram showing the training and inferencing phases in machine learning.\n",
        "\n",
        "The training data consists of past observations. In most cases, the observations include the observed attributes or features of the thing being observed, and the known value of the thing you want to train a model to predict (known as the label).\n",
        "\n",
        "In mathematical terms, you'll often see the features referred to using the shorthand variable name x, and the label referred to as y. Usually, an observation consists of multiple feature values, so x is actually a vector (an array with multiple values), like this: [x1,x2,x3,...].\n",
        "\n",
        "To make this clearer, let's consider the examples described previously:\n",
        "\n",
        "In the ice cream sales scenario, our goal is to train a model that can predict the number of ice cream sales based on the weather. The weather measurements for the day (temperature, rainfall, windspeed, and so on) would be the features (x), and the number of ice creams sold on each day would be the label (y).\n",
        "In the medical scenario, the goal is to predict whether or not a patient is at risk of diabetes based on their clinical measurements. The patient's measurements (weight, blood glucose level, and so on) are the features (x), and the likelihood of diabetes (for example, 1 for at risk, 0 for not at risk) is the label (y).\n",
        "In the Antarctic research scenario, we want to predict the species of a penguin based on its physical attributes. The key measurements of the penguin (length of its flippers, width of its bill, and so on) are the features (x), and the species (for example, 0 for Adelie, 1 for Gentoo, or 2 for Chinstrap) is the label (y).\n",
        "An algorithm is applied to the data to try to determine a relationship between the features and the label, and generalize that relationship as a calculation that can be performed on x to calculate y. The specific algorithm used depends on the kind of predictive problem you're trying to solve (more about this later), but the basic principle is to try to fit a function to the data, in which the values of the features can be used to calculate the label.\n",
        "\n",
        "The result of the algorithm is a model that encapsulates the calculation derived by the algorithm as a function - let's call it f. In mathematical notation:\n",
        "\n",
        "y = f(x)\n",
        "\n",
        "Now that the training phase is complete, the trained model can be used for inferencing. The model is essentially a software program that encapsulates the function produced by the training process. You can input a set of feature values, and receive as an output a prediction of the corresponding label. Because the output from the model is a prediction that was calculated by the function, and not an observed value, you'll often see the output from the function shown as ŷ (which is rather delightfully verbalized as \"y-hat\")."
      ],
      "metadata": {
        "id": "vfq5LNJu94hA"
      },
      "execution_count": null,
      "outputs": []
    },
    {
      "cell_type": "code",
      "source": [
        "Types of machine learning\n",
        "\n",
        "There are multiple types of machine learning, and you must apply the appropriate type depending on what you're trying to predict. A breakdown of common types of machine learning is shown in the following diagram.\n",
        "\n",
        "Diagram showing supervised machine learning (regression and classification) and unsupervised machine learning (clustering).\n",
        "\n",
        "Supervised machine learning\n",
        "Supervised machine learning is a general term for machine learning algorithms in which the training data includes both feature values and known label values. Supervised machine learning is used to train models by determining a relationship between the features and labels in past observations, so that unknown labels can be predicted for features in future cases.\n",
        "\n",
        "Regression\n",
        "Regression is a form of supervised machine learning in which the label predicted by the model is a numeric value. For example:\n",
        "\n",
        "The number of ice creams sold on a given day, based on the temperature, rainfall, and windspeed.\n",
        "The selling price of a property based on its size in square feet, the number of bedrooms it contains, and socio-economic metrics for its location.\n",
        "The fuel efficiency (in miles-per-gallon) of a car based on its engine size, weight, width, height, and length.\n",
        "Classification\n",
        "Classification is a form of supervised machine learning in which the label represents a categorization, or class. There are two common classification scenarios.\n",
        "\n",
        "Binary classification\n",
        "In binary classification, the label determines whether the observed item is (or isn't) an instance of a specific class. Or put another way, binary classification models predict one of two mutually exclusive outcomes. For example:\n",
        "\n",
        "Whether a patient is at risk for diabetes based on clinical metrics like weight, age, blood glucose level, and so on.\n",
        "Whether a bank customer will default on a loan based on income, credit history, age, and other factors.\n",
        "Whether a mailing list customer will respond positively to a marketing offer based on demographic attributes and past purchases.\n",
        "In all of these examples, the model predicts a binary true/false or positive/negative prediction for a single possible class.\n",
        "\n",
        "Multiclass classification\n",
        "Multiclass classification extends binary classification to predict a label that represents one of multiple possible classes. For example,\n",
        "\n",
        "The species of a penguin (Adelie, Gentoo, or Chinstrap) based on its physical measurements.\n",
        "The genre of a movie (comedy, horror, romance, adventure, or science fiction) based on its cast, director, and budget.\n",
        "In most scenarios that involve a known set of multiple classes, multiclass classification is used to predict mutually exclusive labels. For example, a penguin can't be both a Gentoo and an Adelie. However, there are also some algorithms that you can use to train multilabel classification models, in which there may be more than one valid label for a single observation. For example, a movie could potentially be categorized as both science fiction and comedy.\n",
        "\n",
        "Unsupervised machine learning\n",
        "Unsupervised machine learning involves training models using data that consists only of feature values without any known labels. Unsupervised machine learning algorithms determine relationships between the features of the observations in the training data.\n",
        "\n",
        "Clustering\n",
        "The most common form of unsupervised machine learning is clustering. A clustering algorithm identifies similarities between observations based on their features, and groups them into discrete clusters. For example:\n",
        "\n",
        "Group similar flowers based on their size, number of leaves, and number of petals.\n",
        "Identify groups of similar customers based on demographic attributes and purchasing behavior.\n",
        "In some ways, clustering is similar to multiclass classification; in that it categorizes observations into discrete groups. The difference is that when using classification, you already know the classes to which the observations in the training data belong; so the algorithm works by determining the relationship between the features and the known classification label. In clustering, there's no previously known cluster label and the algorithm groups the data observations based purely on similarity of features.\n",
        "\n",
        "In some cases, clustering is used to determine the set of classes that exist before training a classification model. For example, you might use clustering to segment your customers into groups, and then analyze those groups to identify and categorize different classes of customer (high value - low volume, frequent small purchaser, and so on). You could then use your categorizations to label the observations in your clustering results and use the labeled data to train a classification model that predicts to which customer category a new customer might belong."
      ],
      "metadata": {
        "id": "3SPtOL2M-7LW"
      },
      "execution_count": null,
      "outputs": []
    },
    {
      "cell_type": "code",
      "source": [
        "R2 ( R- Kare) ne kadar 1'e  yakın olursa model doğrulama verilerine o kadar iyi uyuyor demektir.\n",
        "\n",
        "Iterative training\n",
        "The metrics described above are commonly used to evaluate a regression model. In most real-world scenarios, a data scientist will use an iterative process to repeatedly train and evaluate a model, varying:\n",
        "\n",
        "Feature selection and preparation (choosing which features to include in the model, and calculations applied to them to help ensure a better fit).\n",
        "Algorithm selection (We explored linear regression in the previous example, but there are many other regression algorithms)\n",
        "Algorithm parameters (numeric settings to control algorithm behavior, more accurately called hyperparameters to differentiate them from the x and y parameters).\n",
        "After multiple iterations, the model that results in the best evaluation metric that's acceptable for the specific scenario is selected."
      ],
      "metadata": {
        "id": "3y22_oRbATA4"
      },
      "execution_count": null,
      "outputs": []
    },
    {
      "cell_type": "code",
      "source": [
        "Binary classification\n",
        "\n",
        "Classification, like regression, is a supervised machine learning technique; and therefore follows the same iterative process of training, validating, and evaluating models. Instead of calculating numeric values like a regression model, the algorithms used to train classification models calculate probability values for class assignment and the evaluation metrics used to assess model performance compare the predicted classes to the actual classes.\n",
        "\n",
        "Binary classification algorithms are used to train a model that predicts one of two possible labels for a single class. Essentially, predicting true or false. In most real scenarios, the data observations used to train and validate the model consist of multiple feature (x) values and a y value that is either 1 or 0.\n",
        "\n",
        "Despite its name, in machine learning logistic regression is used for classification, not regression. The important point is the logistic nature of the function it produces, which describes an S-shaped curve between a lower and upper value (0.0 and 1.0 when used for binary classification).\n"
      ],
      "metadata": {
        "id": "ozXKvjALCtdr"
      },
      "execution_count": null,
      "outputs": []
    },
    {
      "cell_type": "code",
      "source": [
        "Multiclass classification\n",
        "\n",
        "Multiclass classification is used to predict to which of multiple possible classes an observation belongs. As a supervised machine learning technique, it follows the same iterative train, validate, and evaluate process as regression and binary classification in which a subset of the training data is held back to validate the trained model.\n",
        "\n",
        "Training a multiclass classification model\n",
        "To train a multiclass classification model, we need to use an algorithm to fit the training data to a function that calculates a probability value for each possible class. There are two kinds of algorithm you can use to do this:\n",
        "\n",
        "One-vs-Rest (OvR) algorithms\n",
        "Multinomial algorithms"
      ],
      "metadata": {
        "id": "goMNwoiPGKSr"
      },
      "execution_count": null,
      "outputs": []
    },
    {
      "cell_type": "code",
      "source": [
        "Clustering\n",
        "\n",
        "Clustering is a form of unsupervised machine learning in which observations are grouped into clusters based on similarities in their data values, or features. This kind of machine learning is considered unsupervised because it doesn't make use of previously known label values to train a model. In a clustering model, the label is the cluster to which the observation is assigned, based only on its features."
      ],
      "metadata": {
        "id": "jOXFG4_wPs5c"
      },
      "execution_count": null,
      "outputs": []
    },
    {
      "cell_type": "code",
      "source": [
        "Training a clustering model\n",
        "There are multiple algorithms you can use for clustering. One of the most commonly used algorithms is K-Means clustering, which consists of the following steps:\n",
        "\n",
        "The feature (x) values are vectorized to define n-dimensional coordinates (where n is the number of features). In the flower example, we have two features: number of leaves (x1) and number of petals (x2). So, the feature vector has two coordinates that we can use to conceptually plot the data points in two-dimensional space ([x1,x2])\n",
        "You decide how many clusters you want to use to group the flowers - call this value k. For example, to create three clusters, you would use a k value of 3. Then k points are plotted at random coordinates. These points become the center points for each cluster, so they're called centroids.\n",
        "Each data point (in this case a flower) is assigned to its nearest centroid.\n",
        "Each centroid is moved to the center of the data points assigned to it based on the mean distance between the points.\n",
        "After the centroid is moved, the data points may now be closer to a different centroid, so the data points are reassigned to clusters based on the new closest centroid.\n",
        "The centroid movement and cluster reallocation steps are repeated until the clusters become stable or a predetermined maximum number of iterations is reached."
      ],
      "metadata": {
        "id": "CujElvLwQMgQ"
      },
      "execution_count": null,
      "outputs": []
    },
    {
      "cell_type": "code",
      "source": [
        "Evaluating a clustering model\n",
        "Since there's no known label with which to compare the predicted cluster assignments, evaluation of a clustering model is based on how well the resulting clusters are separated from one another.\n",
        "\n",
        "There are multiple metrics that you can use to evaluate cluster separation, including:\n",
        "\n",
        "Average distance to cluster center: How close, on average, each point in the cluster is to the centroid of the cluster.\n",
        "Average distance to other center: How close, on average, each point in the cluster is to the centroid of all other clusters.\n",
        "Maximum distance to cluster center: The furthest distance between a point in the cluster and its centroid.\n",
        "Silhouette: A value between -1 and 1 that summarizes the ratio of distance between points in the same cluster and points in different clusters (The closer to 1, the better the cluster separation)."
      ],
      "metadata": {
        "id": "RI6MPec8QdUQ"
      },
      "execution_count": null,
      "outputs": []
    },
    {
      "cell_type": "code",
      "source": [
        "Deep learning\n",
        "\n",
        "Deep learning is an advanced form of machine learning that tries to emulate the way the human brain learns. The key to deep learning is the creation of an artificial neural network that simulates electrochemical activity in biological neurons by using mathematical functions, as shown here.\n",
        "Nöronlar elektrokimyasal uyarılara yanıt olarak ateşlenir. Ateşlendiğinde, sinyal bağlı nöronlara iletilir.\n",
        "Her nöron, bir girdi değeri ( x ) ve bir ağırlık ( w ) üzerinde işlem yapan bir fonksiyondur . Fonksiyon , çıktının iletilip iletilmeyeceğini belirleyen bir aktivasyon fonksiyonuna sarılmıştır .\n",
        "\n",
        "Yapay sinir ağları, esasen derin bir şekilde iç içe geçmiş bir işlevi tanımlayan çok sayıda nöron katmanından oluşur . Bu mimari, tekniğin derin öğrenme olarak adlandırılmasının ve ürettiği modellerin genellikle derin sinir ağları (DNN'ler) olarak adlandırılmasının nedenidir . Derin sinir ağlarını, regresyon ve sınıflandırma gibi birçok makine öğrenimi problemi için ve ayrıca doğal dil işleme ve bilgisayarlı görüş için daha uzmanlaşmış modeller için kullanabilirsiniz.\n",
        "\n",
        "Bu modülde tartışılan diğer makine öğrenimi teknikleri gibi, derin öğrenme de eğitim verilerini bir veya daha fazla özelliğin ( x ) değerine dayalı olarak bir etiketi ( y ) tahmin edebilen bir fonksiyona uydurmayı içerir . Fonksiyon ( f(x) ), sinir ağının her katmanının x üzerinde işlem yapan fonksiyonları ve bunlarla ilişkili ağırlık ( w ) değerlerini kapsüllediği iç içe geçmiş bir fonksiyonun dış katmanıdır. Modeli eğitmek için kullanılan algoritma, eğitim verilerindeki özellik değerlerini ( x ) katmanlar boyunca yinelemeli olarak besleyerek ŷ için çıktı değerlerini hesaplamayı, hesaplanan ŷ değerlerinin bilinen y değerlerinden ( modeldeki hata veya kayıp düzeyini niceleyen ) ne kadar uzakta olduğunu değerlendirmek için modeli doğrulamayı ve ardından kaybı azaltmak için ağırlıkları ( w ) değiştirmeyi içerir. Eğitilen model, en doğru tahminlerle sonuçlanan son ağırlık değerlerini içerir.\n",
        "\n"
      ],
      "metadata": {
        "id": "9vxhU81tQhwX"
      },
      "execution_count": null,
      "outputs": []
    },
    {
      "cell_type": "code",
      "source": [
        "Eğitim verilerindeki her bir vakanın ağdan tek tek geçirildiğini düşünmek daha kolay olsa da, gerçekte veriler matrislere bölünür ve doğrusal cebirsel hesaplamalar kullanılarak işlenir. Bu nedenle, sinir ağı eğitimi vektör ve matris manipülasyonu için optimize edilmiş grafiksel işlem birimlerine (GPU) sahip bilgisayarlarda en iyi şekilde gerçekleştirilir.\n",
        "\n",
        "Azure Makine Öğrenmesi\n",
        "\n",
        "Microsoft Azure Machine Learning, makine öğrenimi modellerini eğitmek, dağıtmak ve yönetmek için bir bulut hizmetidir. Veri bilimcileri, yazılım mühendisleri, devops profesyonelleri ve diğerleri tarafından makine öğrenimi projelerinin uçtan uca yaşam döngüsünü yönetmek için kullanılmak üzere tasarlanmıştır. Bunlara şunlar dahildir:\n",
        "\n",
        "Verilerin incelenmesi ve modellemeye hazırlanması.\n",
        "Makine öğrenimi modellerinin eğitilmesi ve değerlendirilmesi.\n",
        "Eğitilen modellerin kayıt altına alınması ve yönetilmesi.\n",
        "Eğitilmiş modellerin uygulamalar ve servisler tarafından kullanılmak üzere dağıtılması.\n",
        "Sorumlu yapay zeka prensiplerini ve uygulamalarını gözden geçirmek ve uygulamak.\n",
        "\n",
        "Azure Machine Learning'in özellikleri ve yetenekleri\n",
        "Azure Machine Learning, makine öğrenimi iş yüklerini desteklemek için aşağıdaki özellikleri ve yetenekleri sağlar:\n",
        "\n",
        "Model eğitimi ve değerlendirmesi için veri kümelerinin merkezi olarak depolanması ve yönetimi.\n",
        "Bir modeli eğitmek gibi makine öğrenimi işlerini çalıştırabileceğiniz talep üzerine bilgi işlem kaynakları.\n",
        "Verileriniz için en iyi modeli bulmak amacıyla farklı algoritmalar ve parametrelerle birden fazla eğitim işini çalıştırmayı kolaylaştıran otomatik makine öğrenimi (AutoML).\n",
        "Model eğitimi veya çıkarım gibi süreçler için düzenlenmiş işlem hatlarını tanımlamak için görsel araçlar .\n",
        "Ölçekte model eğitimi, değerlendirmesi ve dağıtımını yönetmeyi kolaylaştıran MLflow gibi yaygın makine öğrenimi çerçeveleriyle entegrasyon.\n",
        "Sorumlu yapay zeka için metriklerin görselleştirilmesi ve değerlendirilmesi için yerleşik destek; model açıklanabilirliği, adalet değerlendirmesi ve diğerleri."
      ],
      "metadata": {
        "id": "hQXtxJZlSUtO"
      },
      "execution_count": null,
      "outputs": []
    },
    {
      "cell_type": "code",
      "source": [
        "A loss function determines the overall variance, or loss, between predicted and actual label values.\n",
        "Automated machine learning runs multiple training jobs, varying algorithms and parameters, to find the best model for your data.\n",
        "Precision is a useful metric for evaluating classification models.\n",
        "Regression models predict numeric values."
      ],
      "metadata": {
        "id": "L-tgpZF1To_n"
      },
      "execution_count": null,
      "outputs": []
    },
    {
      "cell_type": "code",
      "source": [
        "Artificial Intelligence (AI) is changing our world and there’s hardly an industry that hasn't been affected. From better healthcare to online safety, AI is helping us to tackle some of society’s biggest issues.\n",
        "\n",
        "Azure AI services are a portfolio of AI capabilities that unlock automation for workloads in language, vision, intelligent search, content generation, and much more. They are straightforward to implement and don’t require specialist AI knowledge.\n",
        "\n",
        "Organizations are using Azure AI services in innovative ways, such as within robots to provide life-like companionship to older people by expressing happiness, concern, and even laughter. In other use cases, scientists are using AI to protect endangered species by identifying hard-to-find animals in images. This was previously time-consuming and error-prone work, which the Azure AI Vision service can complete quickly and with a high degree of accuracy, freeing scientists to do other work.\n",
        "\n",
        "In this module you will learn what Azure AI services are, and how you can use them in your own applications.\n",
        "\n",
        "Azure platformunda AI hizmetleri\n",
        "\n",
        "Azure AI servisleri, web veya mobil uygulamalara uygulanması kolay bir şekilde yerleştirilebilen AI yetenekleridir. Bu AI servisleri görüntü tanıma, doğal dil işleme, konuşma, AI destekli arama ve daha fazlasını içerir. Uygulamalara AI gücü eklemek için ayrı ayrı veya birlikte kullanılabilen bir düzineden fazla farklı servis vardır.\n",
        "\n",
        "Azure AI hizmetleriyle neler yapılabileceğine dair bazı örneklere bir göz atalım. Azure AI İçerik Güvenliği hizmeti, şiddet veya nefret içerikleri de dahil olmak üzere metin veya resimlerdeki zararlı içeriği tespit etmek ve ciddiyetini raporlamak için kullanılabilir. Azure AI Dil hizmeti, metni özetlemek, bilgileri sınıflandırmak veya anahtar ifadeleri çıkarmak için kullanılabilir. Azure AI Konuşma hizmeti, konuşmanın metne veya metnin doğal sesli sese doğru şekilde aktarılmasına olanak tanıyan güçlü konuşmadan metne ve metinden konuşmaya yetenekleri sağlar.\n",
        "\n"
      ],
      "metadata": {
        "id": "ydP4S2FBUAT2"
      },
      "execution_count": null,
      "outputs": []
    },
    {
      "cell_type": "code",
      "source": [
        "Geliştiriciler uygulamalarına bir yapay zeka hizmeti dahil ederken genellikle bir SDK veya REST API kullanırlar ."
      ],
      "metadata": {
        "id": "H1T_IcxjVNnh"
      },
      "execution_count": null,
      "outputs": []
    }
  ]
}